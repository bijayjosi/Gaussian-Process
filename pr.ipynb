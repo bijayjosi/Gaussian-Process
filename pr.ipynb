{
 "cells": [
  {
   "cell_type": "code",
   "execution_count": 1,
   "id": "45017c82-c64c-4551-81ba-1fdf86e55cbe",
   "metadata": {},
   "outputs": [],
   "source": [
    "import numpy as np\n",
    "import pandas as pd\n",
    "import matplotlib.pyplot as plt\n",
    "import scipy.stats\n",
    "import math "
   ]
  },
  {
   "cell_type": "code",
   "execution_count": 22,
   "id": "6380f9f3-7b4e-4ff4-acc4-6c1b953ddec8",
   "metadata": {},
   "outputs": [],
   "source": [
    "train_crime = pd.read_csv('in/train-crime.csv').to_numpy()\n",
    "train_crime_labels = pd.read_csv('in/trainR-crime.csv').to_numpy()\n",
    "train_artsmall = pd.read_csv('in/train-artsmall.csv').to_numpy()\n",
    "train_artsmall_labels = pd.read_csv('in/trainR-artsmall.csv').to_numpy()\n",
    "train_housing = pd.read_csv('in/train-housing.csv').to_numpy()\n",
    "train_housing_labels = pd.read_csv('in/trainR-housing.csv').to_numpy()\n",
    "train_1D = pd.read_csv('in/train-1D.csv').to_numpy()\n",
    "train_1D_labels = pd.read_csv('in/trainR-1D.csv').to_numpy()"
   ]
  },
  {
   "cell_type": "code",
   "execution_count": 23,
   "id": "0888da01-dc63-4de5-8aee-64f0188bb7d0",
   "metadata": {},
   "outputs": [],
   "source": [
    "train_data = [train_crime, train_artsmall, train_housing, train_1D]\n",
    "train_labels = [train_crime_labels, train_artsmall_labels, train_housing_labels, train_1D_labels]"
   ]
  },
  {
   "cell_type": "code",
   "execution_count": 25,
   "id": "c6b19ada-a492-41cf-9c13-3a03023fafad",
   "metadata": {},
   "outputs": [],
   "source": [
    "test_crime = pd.read_csv('in/test-crime.csv').to_numpy()\n",
    "test_crime_labels = pd.read_csv('in/testR-crime.csv').to_numpy()\n",
    "test_artsmall = pd.read_csv('in/test-artsmall.csv').to_numpy()\n",
    "test_artsmall_labels = pd.read_csv('in/testR-artsmall.csv').to_numpy()\n",
    "test_housing = pd.read_csv('in/test-housing.csv').to_numpy()\n",
    "test_housing_labels = pd.read_csv('in/testR-housing.csv').to_numpy()\n",
    "test_1D= pd.read_csv('in/test-1D.csv').to_numpy()\n",
    "test_1D_labels = pd.read_csv('in/testR-1D.csv').to_numpy()"
   ]
  },
  {
   "cell_type": "code",
   "execution_count": 26,
   "id": "b07daa56-0289-4e1a-bfe1-2ec949df4eb5",
   "metadata": {},
   "outputs": [],
   "source": [
    "test_data = [test_crime, test_artsmall, test_housing, test_1D]\n",
    "test_labels = [test_crime_labels, test_artsmall_labels, test_housing_labels, test_1D_labels]\n"
   ]
  },
  {
   "cell_type": "code",
   "execution_count": 27,
   "id": "c0fd5827-3017-4df1-b598-46728e118200",
   "metadata": {},
   "outputs": [],
   "source": [
    "# linear kernel\n",
    "def k1(x1,x2,d=1): \n",
    "    return np.inner(np.transpose(x1), x2) + 1 # I'm pretty sure this is supposed to be an outer product?"
   ]
  },
  {
   "cell_type": "code",
   "execution_count": 28,
   "id": "3d11e586-92ff-42a0-b6c3-e9286a9745de",
   "metadata": {},
   "outputs": [],
   "source": [
    "# SE/RBF kernel\n",
    "def k2(x1,x2,s=1): \n",
    "    exp = -.5 * np.linalg.norm(x1-x2)**2/s**2 # going to need to double check the np.linalg.norm ord parameter\n",
    "    return "
   ]
  },
  {
   "cell_type": "code",
   "execution_count": 29,
   "id": "b7ba1902-ee6d-4a0d-858a-e63818561bd3",
   "metadata": {},
   "outputs": [],
   "source": [
    "# my function for getting K matrix, I do it element-wise I just thought that was easier\n",
    "def getK(phi, kernelfunction, s=1):\n",
    "    N = len(phi)\n",
    "    K=np.zeros((N,N))\n",
    "\n",
    "    # nothing crazy complicated here, filling in K element by element\n",
    "    if kernelfunction == 'linear':\n",
    "        for i in range(N):\n",
    "            for j in range(N):\n",
    "                K[i,j]= k1(phi[i],phi[j])\n",
    "    elif kernelfunction == 'RBF':\n",
    "        for i in range(N):\n",
    "            for j in range(N):\n",
    "                K[i,j]= k2(phi[i],phi[j], s)\n",
    "\n",
    "    return K"
   ]
  },
  {
   "cell_type": "code",
   "execution_count": 30,
   "id": "c3ea1651-0cce-4cca-93a2-9426295afd5e",
   "metadata": {},
   "outputs": [],
   "source": [
    "# Function for getting covariance matrix\n",
    "# I did this with matrices instead of element-wise just because of the way beta\n",
    "# was being incorporated I thought it'd make it easier instead of checking for i == j every element\n",
    "def getC(K, alpha, beta):\n",
    "    return np.identity(len(K))/beta "
   ]
  },
  {
   "cell_type": "code",
   "execution_count": 31,
   "id": "598b4036-3e22-4f1e-b71f-7b3c82ae3cab",
   "metadata": {},
   "outputs": [],
   "source": [
    "# this is my function for getting the individual c element for each testing point I'm trying to predict\n",
    "# I didn't want to recompute C_N every time and I thought this was the simplest way to do it considering\n",
    "# all we really need is a scalar\n",
    "def get_c(input, kernelfunction, alpha, beta, s=1):\n",
    "    if kernelfunction == 'linear':\n",
    "        return float(k1(input, input)/alpha + 1/beta)\n",
    "    elif kernelfunction == 'RBF':\n",
    "        return float(k2(input, input, s)/alpha + 1/beta)\n",
    "    else:\n",
    "        print('invalid kernel method')\n"
   ]
  },
  {
   "cell_type": "code",
   "execution_count": 32,
   "id": "300b2d5f-8edd-4816-b21f-8d7b6e94fdf5",
   "metadata": {},
   "outputs": [],
   "source": [
    "# this is how I get my v vector for testing, I compute the kernel beteween each training point and the testing\n",
    "# sample because that's what it'd simplify to in the covariance matrix because the testing point will never\n",
    "# be the same as any of the training points (we don't need to factor in beta)\n",
    "# phi: training input matrix\n",
    "# input: current testing input\n",
    "def get_v(phi, input, kernelfunction, alpha, beta, s=1):\n",
    "    v = np.zeros(len(phi))\n",
    "\n",
    "    if kernelfunction == 'linear':\n",
    "        for i in range(len(phi)):\n",
    "            v[i] = k1(phi[i], input)/alpha\n",
    "    else:\n",
    "        for i in range(len(phi)):\n",
    "            v[i] = k2(phi[i], input, s)/alpha\n",
    "        \n",
    "    return v"
   ]
  },
  {
   "cell_type": "code",
   "execution_count": 33,
   "id": "4e64bc26-3f42-4b0b-bc12-e28e62e5e51b",
   "metadata": {},
   "outputs": [],
   "source": [
    "# simple method for checking convergence\n",
    "# a: old evidence value\n",
    "# b: the new one\n",
    "def converged(a,b):\n",
    "    if (b-a)/abs(a) <= 10**(-5):\n",
    "        return True\n",
    "    else:\n",
    "        return False\n"
   ]
  },
  {
   "cell_type": "code",
   "execution_count": 34,
   "id": "c0ed4680-5c51-4d38-a6f8-0289419c2d0d",
   "metadata": {},
   "outputs": [],
   "source": [
    "# function for calculating log evidence via covariance matrix, it's inverse, and t\n",
    "# see slides\n",
    "def logEv(C_N, C_inverse, t):\n",
    "    return float(-(len(C_N))/2 * math.log(2*math.pi) - .5*np.log(np.linalg.det(C_N)) - .5*np.matmul(np.matmul(np.transpose(t), C_inverse), t))\n",
    "\n",
    "# calculating the derivative of the log evidence wrt a specific hyperparameter aka theta\n",
    "def deriv_logEv(C_inverse, C_wrt_theta, t):\n",
    "    return -.5*np.trace(np.matmul(C_inverse, C_wrt_theta)) + .5*np.matmul(np.matmul(np.matmul(np.matmul(np.transpose(t), C_inverse), C_wrt_theta), C_inverse), t)\n",
    "\n",
    "\n",
    "# function for calculating log evidence via covariance matrix, it's inverse, and t\n",
    "# see slides\n",
    "def logEv(C_N, C_inverse, t):\n",
    "    return float(-(len(C_N))/2 * math.log(2*math.pi) - .5*np.log(np.linalg.det(C_N)) - .5*np.matmul(np.matmul(np.transpose(t), C_inverse), t))\n",
    "\n",
    "# calculating the derivative of the log evidence wrt a specific hyperparameter aka theta\n",
    "def deriv_logEv(C_inverse, C_wrt_theta, t):\n",
    "    return -.5*np.trace(np.matmul(C_inverse, C_wrt_theta)) + .5*np.matmul(np.matmul(np.matmul(np.matmul(np.transpose(t), C_inverse), C_wrt_theta), C_inverse), t)\n",
    "\n",
    "# all encompassing function to update all 3 of our parameters\n",
    "def update_params(C_N, C_inverse, K, phi, t, params):\n",
    "    alpha, beta, s = float(params[0]), float(params[1]), float(params[2])\n",
    "    N = len(K)\n",
    "    aeta=.01\n",
    "\n",
    "    C_wrt_alpha = -1*K/(alpha**2)\n",
    "    C_wrt_beta = -1*np.identity(N)/(beta**2)\n",
    "    C_wrt_s = np.zeros((N,N))\n",
    "\n",
    "    for i in range(N):\n",
    "        for j in range(N):\n",
    "            # not sure if np.linalg.norm is correct\n",
    "            C_wrt_s[i,j] = np.exp(-.5*np.linalg.norm(phi[i]-phi[j])**2/s**2)*np.linalg.norm(phi[i]-phi[j])**2/s**3\n",
    "    \n",
    "\n",
    "    res = []\n",
    "    for param, C_derivative in zip(params, [C_wrt_alpha, C_wrt_beta, C_wrt_s]):\n",
    "        log = np.log(param)\n",
    "        log = log + aeta*deriv_logEv(C_inverse, C_derivative, t)*param\n",
    "        res.append(np.exp(log))\n",
    "\n",
    "\n",
    "    return res\n",
    "\n",
    "\n",
    "# got this one liner from geeksforgeeks\n",
    "def MSE(m, t):\n",
    "    return np.square(np.subtract(m,t)).mean()\n",
    "\n",
    "# function for mean negative log likelihood\n",
    "def MNLL(m, var, t):\n",
    "    return scipy.stats.norm(m, math.sqrt(var)).pdf(t) # scipy takes the STANDARD DEVIATION\n",
    "        \n",
    "\n"
   ]
  },
  {
   "cell_type": "code",
   "execution_count": 35,
   "id": "6c16fbc5-46f0-493d-8c49-7592ef33f7e9",
   "metadata": {},
   "outputs": [
    {
     "name": "stdout",
     "output_type": "stream",
     "text": [
      "\n",
      "training linear kernel on 1D dataset\n"
     ]
    },
    {
     "name": "stderr",
     "output_type": "stream",
     "text": [
      "C:\\Users\\Dell\\AppData\\Local\\Temp\\ipykernel_13208\\2700541286.py:45: DeprecationWarning: Conversion of an array with ndim > 0 to a scalar is deprecated, and will error in future. Ensure you extract a single element from your array before performing this operation. (Deprecated NumPy 1.25.)\n",
      "  alpha, beta, s = float(params[0]), float(params[1]), float(params[2])\n",
      "C:\\Users\\Dell\\AppData\\Local\\Temp\\ipykernel_13208\\1361715738.py:14: DeprecationWarning: Conversion of an array with ndim > 0 to a scalar is deprecated, and will error in future. Ensure you extract a single element from your array before performing this operation. (Deprecated NumPy 1.25.)\n",
      "  return float(-(len(C_N))/2 * math.log(2*math.pi) - .5*np.log(np.linalg.det(C_N)) - .5*np.matmul(np.matmul(np.transpose(t), C_inverse), t))\n",
      "C:\\Users\\Dell\\AppData\\Local\\Temp\\ipykernel_13208\\2175826267.py:6: RuntimeWarning: divide by zero encountered in scalar divide\n",
      "  return float(k1(input, input)/alpha + 1/beta)\n",
      "C:\\Users\\Dell\\AppData\\Local\\Temp\\ipykernel_13208\\2885212626.py:11: RuntimeWarning: divide by zero encountered in scalar divide\n",
      "  v[i] = k1(phi[i], input)/alpha\n",
      "C:\\Users\\Dell\\AppData\\Local\\Temp\\ipykernel_13208\\2700541286.py:71: RuntimeWarning: invalid value encountered in matmul\n",
      "  mean = float(np.matmul(np.matmul(np.transpose(v), C_inverse), t))\n",
      "C:\\Users\\Dell\\AppData\\Local\\Temp\\ipykernel_13208\\2700541286.py:71: DeprecationWarning: Conversion of an array with ndim > 0 to a scalar is deprecated, and will error in future. Ensure you extract a single element from your array before performing this operation. (Deprecated NumPy 1.25.)\n",
      "  mean = float(np.matmul(np.matmul(np.transpose(v), C_inverse), t))\n",
      "C:\\Users\\Dell\\AppData\\Local\\Temp\\ipykernel_13208\\2700541286.py:72: RuntimeWarning: invalid value encountered in matmul\n",
      "  var = c - np.matmul(np.matmul(np.transpose(v), C_inverse), v)\n",
      "C:\\Users\\Dell\\AppData\\Local\\Temp\\ipykernel_13208\\2700541286.py:79: DeprecationWarning: Conversion of an array with ndim > 0 to a scalar is deprecated, and will error in future. Ensure you extract a single element from your array before performing this operation. (Deprecated NumPy 1.25.)\n",
      "  mnll -= math.log(MNLL(means[y], variances[y], test_t[y]))\n",
      "C:\\Users\\Dell\\AppData\\Local\\Temp\\ipykernel_13208\\1361715738.py:26: RuntimeWarning: divide by zero encountered in divide\n",
      "  C_wrt_alpha = -1*K/(alpha**2)\n",
      "C:\\Users\\Dell\\AppData\\Local\\Temp\\ipykernel_13208\\1361715738.py:38: RuntimeWarning: divide by zero encountered in log\n",
      "  log = np.log(param)\n",
      "C:\\Users\\Dell\\AppData\\Local\\Temp\\ipykernel_13208\\1361715738.py:18: RuntimeWarning: invalid value encountered in matmul\n",
      "  return -.5*np.trace(np.matmul(C_inverse, C_wrt_theta)) + .5*np.matmul(np.matmul(np.matmul(np.matmul(np.transpose(t), C_inverse), C_wrt_theta), C_inverse), t)\n"
     ]
    },
    {
     "name": "stdout",
     "output_type": "stream",
     "text": [
      "[-421.77013622217794, -421.77006345116365]\n",
      "\n",
      "training RBF kernel on 1D dataset\n"
     ]
    },
    {
     "ename": "TypeError",
     "evalue": "unsupported operand type(s) for /: 'NoneType' and 'float'",
     "output_type": "error",
     "traceback": [
      "\u001b[1;31m---------------------------------------------------------------------------\u001b[0m",
      "\u001b[1;31mTypeError\u001b[0m                                 Traceback (most recent call last)",
      "Cell \u001b[1;32mIn[35], line 67\u001b[0m\n\u001b[0;32m     63\u001b[0m \u001b[38;5;28;01mfor\u001b[39;00m y \u001b[38;5;129;01min\u001b[39;00m \u001b[38;5;28mrange\u001b[39m(test_N):\n\u001b[0;32m     64\u001b[0m     \u001b[38;5;28minput\u001b[39m \u001b[38;5;241m=\u001b[39m test_phi[y]\n\u001b[1;32m---> 67\u001b[0m     c \u001b[38;5;241m=\u001b[39m \u001b[43mget_c\u001b[49m\u001b[43m(\u001b[49m\u001b[38;5;28;43minput\u001b[39;49m\u001b[43m,\u001b[49m\u001b[43m \u001b[49m\u001b[43mkernel\u001b[49m\u001b[43m,\u001b[49m\u001b[43m \u001b[49m\u001b[43malpha\u001b[49m\u001b[43m,\u001b[49m\u001b[43m \u001b[49m\u001b[43mbeta\u001b[49m\u001b[43m,\u001b[49m\u001b[43m \u001b[49m\u001b[43ms\u001b[49m\u001b[43m)\u001b[49m\n\u001b[0;32m     68\u001b[0m     v \u001b[38;5;241m=\u001b[39m get_v(phi, \u001b[38;5;28minput\u001b[39m, kernel, alpha, beta, s)\n\u001b[0;32m     71\u001b[0m     mean \u001b[38;5;241m=\u001b[39m \u001b[38;5;28mfloat\u001b[39m(np\u001b[38;5;241m.\u001b[39mmatmul(np\u001b[38;5;241m.\u001b[39mmatmul(np\u001b[38;5;241m.\u001b[39mtranspose(v), C_inverse), t))\n",
      "Cell \u001b[1;32mIn[31], line 8\u001b[0m, in \u001b[0;36mget_c\u001b[1;34m(input, kernelfunction, alpha, beta, s)\u001b[0m\n\u001b[0;32m      6\u001b[0m     \u001b[38;5;28;01mreturn\u001b[39;00m \u001b[38;5;28mfloat\u001b[39m(k1(\u001b[38;5;28minput\u001b[39m, \u001b[38;5;28minput\u001b[39m)\u001b[38;5;241m/\u001b[39malpha \u001b[38;5;241m+\u001b[39m \u001b[38;5;241m1\u001b[39m\u001b[38;5;241m/\u001b[39mbeta)\n\u001b[0;32m      7\u001b[0m \u001b[38;5;28;01melif\u001b[39;00m kernelfunction \u001b[38;5;241m==\u001b[39m \u001b[38;5;124m'\u001b[39m\u001b[38;5;124mRBF\u001b[39m\u001b[38;5;124m'\u001b[39m:\n\u001b[1;32m----> 8\u001b[0m     \u001b[38;5;28;01mreturn\u001b[39;00m \u001b[38;5;28mfloat\u001b[39m(\u001b[43mk2\u001b[49m\u001b[43m(\u001b[49m\u001b[38;5;28;43minput\u001b[39;49m\u001b[43m,\u001b[49m\u001b[43m \u001b[49m\u001b[38;5;28;43minput\u001b[39;49m\u001b[43m,\u001b[49m\u001b[43m \u001b[49m\u001b[43ms\u001b[49m\u001b[43m)\u001b[49m\u001b[38;5;241;43m/\u001b[39;49m\u001b[43malpha\u001b[49m \u001b[38;5;241m+\u001b[39m \u001b[38;5;241m1\u001b[39m\u001b[38;5;241m/\u001b[39mbeta)\n\u001b[0;32m      9\u001b[0m \u001b[38;5;28;01melse\u001b[39;00m:\n\u001b[0;32m     10\u001b[0m     \u001b[38;5;28mprint\u001b[39m(\u001b[38;5;124m'\u001b[39m\u001b[38;5;124minvalid kernel method\u001b[39m\u001b[38;5;124m'\u001b[39m)\n",
      "\u001b[1;31mTypeError\u001b[0m: unsupported operand type(s) for /: 'NoneType' and 'float'"
     ]
    }
   ],
   "source": [
    "\n",
    "titles = [\"crime\", \"artsmall\", \"housing\", \"1D\"]\n",
    "titles = ['1D']\n",
    "x = -1 # just a variable to help print stuff\n",
    "\n",
    "# dictionaries for storing results\n",
    "# I think I may need to brainstorm a better way of doing this, any advice would be greatly appreciated\n",
    "mnll_results = {}\n",
    "mse_results = {}\n",
    "\n",
    "# the meat and potatoes of my code\n",
    "for phi, t, test_phi, test_t in zip(train_data, train_labels, test_data, test_labels):\n",
    "    x+=1\n",
    "\n",
    "    # use both kernels for every dataset\n",
    "    for kernel in ['linear', 'RBF']:\n",
    "        # training\n",
    "        # hyperparameters\n",
    "        alpha=1\n",
    "        beta=1\n",
    "\n",
    "        if x == 3: # this is for the 1D dataset\n",
    "            s=0.1\n",
    "        else: # everything else\n",
    "            s=5\n",
    "\n",
    "        print(f'\\ntraining {kernel} kernel on {titles[x]} dataset')\n",
    "\n",
    "        mnll_results[titles[x] + ' ' + kernel + ' ' + 'kernel'] = {\n",
    "            'iterations':[],\n",
    "            'mnll': []\n",
    "        }\n",
    "        mse_results[titles[x] + ' ' + kernel + ' ' + 'kernel'] = {}\n",
    "\n",
    "        K = getK(phi, kernel, s)\n",
    "        C_N = getC(K, alpha, beta)\n",
    "        C_inverse = np.linalg.inv(C_N)\n",
    "\n",
    "        i = 0\n",
    "        new_ev = -math.inf\n",
    "        evidence_over_time = []\n",
    "        while True:\n",
    "            old_ev = new_ev\n",
    "\n",
    "            params = update_params(C_N, C_inverse, K, phi, t, [alpha, beta, s])\n",
    "            alpha, beta, s = float(params[0]), float(params[1]), float(params[2])\n",
    "\n",
    "            if kernel == 'RBF':\n",
    "                K = getK(phi, 'RBF', s)\n",
    "            C_N = getC(K, alpha, beta)\n",
    "            C_inverse = np.linalg.inv(C_N)\n",
    "\n",
    "\n",
    "            new_ev = logEv(C_N, C_inverse, t)\n",
    "            evidence_over_time.append(new_ev)\n",
    "\n",
    "\n",
    "            convergence = converged(old_ev, new_ev) or i >=100\n",
    "            if convergence or i%10==0:\n",
    "                # testing\n",
    "                means = []\n",
    "                variances = []\n",
    "                test_N = len(test_t)\n",
    "                for y in range(test_N):\n",
    "                    input = test_phi[y]\n",
    "\n",
    "\n",
    "                    c = get_c(input, kernel, alpha, beta, s)\n",
    "                    v = get_v(phi, input, kernel, alpha, beta, s)\n",
    "                    \n",
    "\n",
    "                    mean = float(np.matmul(np.matmul(np.transpose(v), C_inverse), t))\n",
    "                    var = c - np.matmul(np.matmul(np.transpose(v), C_inverse), v)\n",
    "\n",
    "                    means.append(mean)\n",
    "                    variances.append(var)\n",
    "\n",
    "                mnll = 0\n",
    "                for y in range(test_N):\n",
    "                    mnll -= math.log(MNLL(means[y], variances[y], test_t[y]))\n",
    "                \n",
    "                mnll /= test_N\n",
    "\n",
    "                mnll_results[titles[x] + ' ' + kernel + ' ' + 'kernel']['iterations'].append(i)\n",
    "                mnll_results[titles[x] + ' ' + kernel + ' ' + 'kernel']['mnll'].append(mnll)\n",
    "\n",
    "\n",
    "            if convergence:\n",
    "                mnll_results[titles[x] + ' ' + kernel + ' ' + 'kernel']['means'] = means\n",
    "                mnll_results[titles[x] + ' ' + kernel + ' ' + 'kernel']['variances'] = variances\n",
    "\n",
    "\n",
    "\n",
    "                mse = MSE(means, test_t)\n",
    "                mse_results[titles[x] + ' ' + kernel + ' ' + 'kernel']['mse'] = mse\n",
    "                mse_results[titles[x] + ' ' + kernel + ' ' + 'kernel']['alpha'] = alpha\n",
    "                mse_results[titles[x] + ' ' + kernel + ' ' + 'kernel']['beta'] = beta\n",
    "                break\n",
    "\n",
    "            i+=1\n",
    "        \n",
    "        print(evidence_over_time)\n",
    "\n"
   ]
  },
  {
   "cell_type": "code",
   "execution_count": 36,
   "id": "583e1f2a-b3bf-422b-bd8f-10d0a93cde5f",
   "metadata": {},
   "outputs": [],
   "source": [
    "\n",
    "#print('=================== mnll results')\n",
    "#for key in mnll_results.keys():\n",
    "    #print(key)\n",
    "    #print(mnll_results[key])\n",
    "    #print()\n",
    "\n",
    "\n",
    "# visualizing the 1D dataset\n",
    "def f(x):\n",
    "    if x > 1.5:\n",
    "        return -1\n",
    "    elif x < -1.5:\n",
    "        return 1\n",
    "    else:\n",
    "        return math.sin(6*x) # might need to convert radians -> degrees\n",
    "\n"
   ]
  },
  {
   "cell_type": "code",
   "execution_count": 37,
   "id": "54c47d75-7819-4dfb-aaeb-d163ce953c57",
   "metadata": {},
   "outputs": [
    {
     "name": "stderr",
     "output_type": "stream",
     "text": [
      "C:\\Users\\Dell\\AppData\\Local\\Temp\\ipykernel_13208\\56560998.py:15: DeprecationWarning: Conversion of an array with ndim > 0 to a scalar is deprecated, and will error in future. Ensure you extract a single element from your array before performing this operation. (Deprecated NumPy 1.25.)\n",
      "  return math.sin(6*x) # might need to convert radians -> degrees\n"
     ]
    },
    {
     "ename": "ValueError",
     "evalue": "x and y must have same first dimension, but have shapes (59, 1) and (399,)",
     "output_type": "error",
     "traceback": [
      "\u001b[1;31m---------------------------------------------------------------------------\u001b[0m",
      "\u001b[1;31mValueError\u001b[0m                                Traceback (most recent call last)",
      "Cell \u001b[1;32mIn[37], line 11\u001b[0m\n\u001b[0;32m      9\u001b[0m plt\u001b[38;5;241m.\u001b[39mtitle(\u001b[38;5;124m'\u001b[39m\u001b[38;5;124m1D linear kernel learned function vs real function\u001b[39m\u001b[38;5;124m'\u001b[39m)\n\u001b[0;32m     10\u001b[0m plt\u001b[38;5;241m.\u001b[39mplot(x, y1, label\u001b[38;5;241m=\u001b[39m\u001b[38;5;124m'\u001b[39m\u001b[38;5;124mreal\u001b[39m\u001b[38;5;124m'\u001b[39m)\n\u001b[1;32m---> 11\u001b[0m \u001b[43mplt\u001b[49m\u001b[38;5;241;43m.\u001b[39;49m\u001b[43mplot\u001b[49m\u001b[43m(\u001b[49m\u001b[43mx\u001b[49m\u001b[43m,\u001b[49m\u001b[43m \u001b[49m\u001b[43my2\u001b[49m\u001b[43m,\u001b[49m\u001b[43m \u001b[49m\u001b[43mlabel\u001b[49m\u001b[38;5;241;43m=\u001b[39;49m\u001b[38;5;124;43m'\u001b[39;49m\u001b[38;5;124;43mlearned\u001b[39;49m\u001b[38;5;124;43m'\u001b[39;49m\u001b[43m)\u001b[49m\n\u001b[0;32m     12\u001b[0m plt\u001b[38;5;241m.\u001b[39mplot(x, lower_bound, \u001b[38;5;124m'\u001b[39m\u001b[38;5;124m--\u001b[39m\u001b[38;5;124m'\u001b[39m, label\u001b[38;5;241m=\u001b[39m\u001b[38;5;124m'\u001b[39m\u001b[38;5;124m-2 s.d.\u001b[39m\u001b[38;5;124m'\u001b[39m)\n\u001b[0;32m     13\u001b[0m plt\u001b[38;5;241m.\u001b[39mplot(x, upper_bound, \u001b[38;5;124m'\u001b[39m\u001b[38;5;124m--\u001b[39m\u001b[38;5;124m'\u001b[39m, label\u001b[38;5;241m=\u001b[39m\u001b[38;5;124m'\u001b[39m\u001b[38;5;124m+2 s.d.\u001b[39m\u001b[38;5;124m'\u001b[39m)\n",
      "File \u001b[1;32m~\\AppData\\Local\\Programs\\Python\\Python311\\Lib\\site-packages\\matplotlib\\pyplot.py:2812\u001b[0m, in \u001b[0;36mplot\u001b[1;34m(scalex, scaley, data, *args, **kwargs)\u001b[0m\n\u001b[0;32m   2810\u001b[0m \u001b[38;5;129m@_copy_docstring_and_deprecators\u001b[39m(Axes\u001b[38;5;241m.\u001b[39mplot)\n\u001b[0;32m   2811\u001b[0m \u001b[38;5;28;01mdef\u001b[39;00m \u001b[38;5;21mplot\u001b[39m(\u001b[38;5;241m*\u001b[39margs, scalex\u001b[38;5;241m=\u001b[39m\u001b[38;5;28;01mTrue\u001b[39;00m, scaley\u001b[38;5;241m=\u001b[39m\u001b[38;5;28;01mTrue\u001b[39;00m, data\u001b[38;5;241m=\u001b[39m\u001b[38;5;28;01mNone\u001b[39;00m, \u001b[38;5;241m*\u001b[39m\u001b[38;5;241m*\u001b[39mkwargs):\n\u001b[1;32m-> 2812\u001b[0m     \u001b[38;5;28;01mreturn\u001b[39;00m \u001b[43mgca\u001b[49m\u001b[43m(\u001b[49m\u001b[43m)\u001b[49m\u001b[38;5;241;43m.\u001b[39;49m\u001b[43mplot\u001b[49m\u001b[43m(\u001b[49m\n\u001b[0;32m   2813\u001b[0m \u001b[43m        \u001b[49m\u001b[38;5;241;43m*\u001b[39;49m\u001b[43margs\u001b[49m\u001b[43m,\u001b[49m\u001b[43m \u001b[49m\u001b[43mscalex\u001b[49m\u001b[38;5;241;43m=\u001b[39;49m\u001b[43mscalex\u001b[49m\u001b[43m,\u001b[49m\u001b[43m \u001b[49m\u001b[43mscaley\u001b[49m\u001b[38;5;241;43m=\u001b[39;49m\u001b[43mscaley\u001b[49m\u001b[43m,\u001b[49m\n\u001b[0;32m   2814\u001b[0m \u001b[43m        \u001b[49m\u001b[38;5;241;43m*\u001b[39;49m\u001b[38;5;241;43m*\u001b[39;49m\u001b[43m(\u001b[49m\u001b[43m{\u001b[49m\u001b[38;5;124;43m\"\u001b[39;49m\u001b[38;5;124;43mdata\u001b[39;49m\u001b[38;5;124;43m\"\u001b[39;49m\u001b[43m:\u001b[49m\u001b[43m \u001b[49m\u001b[43mdata\u001b[49m\u001b[43m}\u001b[49m\u001b[43m \u001b[49m\u001b[38;5;28;43;01mif\u001b[39;49;00m\u001b[43m \u001b[49m\u001b[43mdata\u001b[49m\u001b[43m \u001b[49m\u001b[38;5;129;43;01mis\u001b[39;49;00m\u001b[43m \u001b[49m\u001b[38;5;129;43;01mnot\u001b[39;49;00m\u001b[43m \u001b[49m\u001b[38;5;28;43;01mNone\u001b[39;49;00m\u001b[43m \u001b[49m\u001b[38;5;28;43;01melse\u001b[39;49;00m\u001b[43m \u001b[49m\u001b[43m{\u001b[49m\u001b[43m}\u001b[49m\u001b[43m)\u001b[49m\u001b[43m,\u001b[49m\u001b[43m \u001b[49m\u001b[38;5;241;43m*\u001b[39;49m\u001b[38;5;241;43m*\u001b[39;49m\u001b[43mkwargs\u001b[49m\u001b[43m)\u001b[49m\n",
      "File \u001b[1;32m~\\AppData\\Local\\Programs\\Python\\Python311\\Lib\\site-packages\\matplotlib\\axes\\_axes.py:1688\u001b[0m, in \u001b[0;36mAxes.plot\u001b[1;34m(self, scalex, scaley, data, *args, **kwargs)\u001b[0m\n\u001b[0;32m   1445\u001b[0m \u001b[38;5;250m\u001b[39m\u001b[38;5;124;03m\"\"\"\u001b[39;00m\n\u001b[0;32m   1446\u001b[0m \u001b[38;5;124;03mPlot y versus x as lines and/or markers.\u001b[39;00m\n\u001b[0;32m   1447\u001b[0m \n\u001b[1;32m   (...)\u001b[0m\n\u001b[0;32m   1685\u001b[0m \u001b[38;5;124;03m(``'green'``) or hex strings (``'#008000'``).\u001b[39;00m\n\u001b[0;32m   1686\u001b[0m \u001b[38;5;124;03m\"\"\"\u001b[39;00m\n\u001b[0;32m   1687\u001b[0m kwargs \u001b[38;5;241m=\u001b[39m cbook\u001b[38;5;241m.\u001b[39mnormalize_kwargs(kwargs, mlines\u001b[38;5;241m.\u001b[39mLine2D)\n\u001b[1;32m-> 1688\u001b[0m lines \u001b[38;5;241m=\u001b[39m [\u001b[38;5;241m*\u001b[39m\u001b[38;5;28mself\u001b[39m\u001b[38;5;241m.\u001b[39m_get_lines(\u001b[38;5;241m*\u001b[39margs, data\u001b[38;5;241m=\u001b[39mdata, \u001b[38;5;241m*\u001b[39m\u001b[38;5;241m*\u001b[39mkwargs)]\n\u001b[0;32m   1689\u001b[0m \u001b[38;5;28;01mfor\u001b[39;00m line \u001b[38;5;129;01min\u001b[39;00m lines:\n\u001b[0;32m   1690\u001b[0m     \u001b[38;5;28mself\u001b[39m\u001b[38;5;241m.\u001b[39madd_line(line)\n",
      "File \u001b[1;32m~\\AppData\\Local\\Programs\\Python\\Python311\\Lib\\site-packages\\matplotlib\\axes\\_base.py:311\u001b[0m, in \u001b[0;36m_process_plot_var_args.__call__\u001b[1;34m(self, data, *args, **kwargs)\u001b[0m\n\u001b[0;32m    309\u001b[0m     this \u001b[38;5;241m+\u001b[39m\u001b[38;5;241m=\u001b[39m args[\u001b[38;5;241m0\u001b[39m],\n\u001b[0;32m    310\u001b[0m     args \u001b[38;5;241m=\u001b[39m args[\u001b[38;5;241m1\u001b[39m:]\n\u001b[1;32m--> 311\u001b[0m \u001b[38;5;28;01myield from\u001b[39;00m \u001b[38;5;28;43mself\u001b[39;49m\u001b[38;5;241;43m.\u001b[39;49m\u001b[43m_plot_args\u001b[49m\u001b[43m(\u001b[49m\n\u001b[0;32m    312\u001b[0m \u001b[43m    \u001b[49m\u001b[43mthis\u001b[49m\u001b[43m,\u001b[49m\u001b[43m \u001b[49m\u001b[43mkwargs\u001b[49m\u001b[43m,\u001b[49m\u001b[43m \u001b[49m\u001b[43mambiguous_fmt_datakey\u001b[49m\u001b[38;5;241;43m=\u001b[39;49m\u001b[43mambiguous_fmt_datakey\u001b[49m\u001b[43m)\u001b[49m\n",
      "File \u001b[1;32m~\\AppData\\Local\\Programs\\Python\\Python311\\Lib\\site-packages\\matplotlib\\axes\\_base.py:504\u001b[0m, in \u001b[0;36m_process_plot_var_args._plot_args\u001b[1;34m(self, tup, kwargs, return_kwargs, ambiguous_fmt_datakey)\u001b[0m\n\u001b[0;32m    501\u001b[0m     \u001b[38;5;28mself\u001b[39m\u001b[38;5;241m.\u001b[39maxes\u001b[38;5;241m.\u001b[39myaxis\u001b[38;5;241m.\u001b[39mupdate_units(y)\n\u001b[0;32m    503\u001b[0m \u001b[38;5;28;01mif\u001b[39;00m x\u001b[38;5;241m.\u001b[39mshape[\u001b[38;5;241m0\u001b[39m] \u001b[38;5;241m!=\u001b[39m y\u001b[38;5;241m.\u001b[39mshape[\u001b[38;5;241m0\u001b[39m]:\n\u001b[1;32m--> 504\u001b[0m     \u001b[38;5;28;01mraise\u001b[39;00m \u001b[38;5;167;01mValueError\u001b[39;00m(\u001b[38;5;124mf\u001b[39m\u001b[38;5;124m\"\u001b[39m\u001b[38;5;124mx and y must have same first dimension, but \u001b[39m\u001b[38;5;124m\"\u001b[39m\n\u001b[0;32m    505\u001b[0m                      \u001b[38;5;124mf\u001b[39m\u001b[38;5;124m\"\u001b[39m\u001b[38;5;124mhave shapes \u001b[39m\u001b[38;5;132;01m{\u001b[39;00mx\u001b[38;5;241m.\u001b[39mshape\u001b[38;5;132;01m}\u001b[39;00m\u001b[38;5;124m and \u001b[39m\u001b[38;5;132;01m{\u001b[39;00my\u001b[38;5;241m.\u001b[39mshape\u001b[38;5;132;01m}\u001b[39;00m\u001b[38;5;124m\"\u001b[39m)\n\u001b[0;32m    506\u001b[0m \u001b[38;5;28;01mif\u001b[39;00m x\u001b[38;5;241m.\u001b[39mndim \u001b[38;5;241m>\u001b[39m \u001b[38;5;241m2\u001b[39m \u001b[38;5;129;01mor\u001b[39;00m y\u001b[38;5;241m.\u001b[39mndim \u001b[38;5;241m>\u001b[39m \u001b[38;5;241m2\u001b[39m:\n\u001b[0;32m    507\u001b[0m     \u001b[38;5;28;01mraise\u001b[39;00m \u001b[38;5;167;01mValueError\u001b[39;00m(\u001b[38;5;124mf\u001b[39m\u001b[38;5;124m\"\u001b[39m\u001b[38;5;124mx and y can be no greater than 2D, but have \u001b[39m\u001b[38;5;124m\"\u001b[39m\n\u001b[0;32m    508\u001b[0m                      \u001b[38;5;124mf\u001b[39m\u001b[38;5;124m\"\u001b[39m\u001b[38;5;124mshapes \u001b[39m\u001b[38;5;132;01m{\u001b[39;00mx\u001b[38;5;241m.\u001b[39mshape\u001b[38;5;132;01m}\u001b[39;00m\u001b[38;5;124m and \u001b[39m\u001b[38;5;132;01m{\u001b[39;00my\u001b[38;5;241m.\u001b[39mshape\u001b[38;5;132;01m}\u001b[39;00m\u001b[38;5;124m\"\u001b[39m)\n",
      "\u001b[1;31mValueError\u001b[0m: x and y must have same first dimension, but have shapes (59, 1) and (399,)"
     ]
    },
    {
     "data": {
      "image/png": "[encoded data removed]",
      "text/plain": [
       "<Figure size 640x480 with 1 Axes>"
      ]
     },
     "metadata": {},
     "output_type": "display_data"
    }
   ],
   "source": [
    "\n",
    "x = test_1D\n",
    "y1 = [f(val) for val in x]\n",
    "\n",
    "y2 = mnll_results['1D linear kernel']['means']\n",
    "vars = mnll_results['1D linear kernel']['variances']\n",
    "sds = np.sqrt(vars)\n",
    "lower_bound = [y2[i] - 2*sds[i] for i in range(len(y2))]\n",
    "upper_bound = [y2[i] + 2*sds[i] for i in range(len(y2))]\n",
    "plt.title('1D linear kernel learned function vs real function')\n",
    "plt.plot(x, y1, label='real')\n",
    "plt.plot(x, y2, label='learned')\n",
    "plt.plot(x, lower_bound, '--', label='-2 s.d.')\n",
    "plt.plot(x, upper_bound, '--', label='+2 s.d.')\n",
    "#plt.fill_between(x, lower_bound, upper_bound, color='g')\n",
    "plt.legend()\n",
    "plt.show()\n",
    "\n"
   ]
  },
  {
   "cell_type": "code",
   "execution_count": 38,
   "id": "9550a67e-28f3-4cbe-a647-f7f146a23068",
   "metadata": {},
   "outputs": [
    {
     "ename": "KeyError",
     "evalue": "'means'",
     "output_type": "error",
     "traceback": [
      "\u001b[1;31m---------------------------------------------------------------------------\u001b[0m",
      "\u001b[1;31mKeyError\u001b[0m                                  Traceback (most recent call last)",
      "Cell \u001b[1;32mIn[38], line 1\u001b[0m\n\u001b[1;32m----> 1\u001b[0m y2 \u001b[38;5;241m=\u001b[39m \u001b[43mmnll_results\u001b[49m\u001b[43m[\u001b[49m\u001b[38;5;124;43m'\u001b[39;49m\u001b[38;5;124;43m1D RBF kernel\u001b[39;49m\u001b[38;5;124;43m'\u001b[39;49m\u001b[43m]\u001b[49m\u001b[43m[\u001b[49m\u001b[38;5;124;43m'\u001b[39;49m\u001b[38;5;124;43mmeans\u001b[39;49m\u001b[38;5;124;43m'\u001b[39;49m\u001b[43m]\u001b[49m\n\u001b[0;32m      2\u001b[0m \u001b[38;5;28mvars\u001b[39m \u001b[38;5;241m=\u001b[39m mnll_results[\u001b[38;5;124m'\u001b[39m\u001b[38;5;124m1D RBF kernel\u001b[39m\u001b[38;5;124m'\u001b[39m][\u001b[38;5;124m'\u001b[39m\u001b[38;5;124mvariances\u001b[39m\u001b[38;5;124m'\u001b[39m]\n\u001b[0;32m      3\u001b[0m sds \u001b[38;5;241m=\u001b[39m np\u001b[38;5;241m.\u001b[39msqrt(\u001b[38;5;28mvars\u001b[39m)\n",
      "\u001b[1;31mKeyError\u001b[0m: 'means'"
     ]
    }
   ],
   "source": [
    "\n",
    "y2 = mnll_results['1D RBF kernel']['means']\n",
    "vars = mnll_results['1D RBF kernel']['variances']\n",
    "sds = np.sqrt(vars)\n",
    "lower_bound = [y2[i] - 2*sds[i] for i in range(len(y2))]\n",
    "upper_bound = [y2[i] + 2*sds[i] for i in range(len(y2))]\n",
    "plt.title('1D RBF kernel learned function vs real function')\n",
    "plt.plot(x, y1, label='real')\n",
    "plt.plot(x, y2, label='learned')\n",
    "plt.plot(x, lower_bound, '--', label='-2 s.d.')\n",
    "plt.plot(x, upper_bound, '--', label='+2 s.d.')\n",
    "#plt.fill_between(x, lower_bound, upper_bound, color='g')\n",
    "plt.legend()\n",
    "plt.show()\n"
   ]
  },
  {
   "cell_type": "code",
   "execution_count": 39,
   "id": "79eaf560-9ffc-4c32-abeb-fd2d6a40cb0d",
   "metadata": {},
   "outputs": [
    {
     "data": {
      "image/png": "[encoded data removed]",
      "text/plain": [
       "<Figure size 640x480 with 1 Axes>"
      ]
     },
     "metadata": {},
     "output_type": "display_data"
    },
    {
     "data": {
      "image/png": "[encoded data removed]",
      "text/plain": [
       "<Figure size 640x480 with 1 Axes>"
      ]
     },
     "metadata": {},
     "output_type": "display_data"
    }
   ],
   "source": [
    "# visualizing by mnll as a function of iterations\n",
    "for key in mnll_results.keys():\n",
    "    plt.title(key)\n",
    "    plt.xlabel('iterations')\n",
    "    plt.ylabel('MNLL')\n",
    "    plt.plot(mnll_results[key]['iterations'], mnll_results[key]['mnll'])\n",
    "    plt.show()"
   ]
  },
  {
   "cell_type": "code",
   "execution_count": null,
   "id": "afb5a846-f60f-48f8-af87-37f7efd1b12f",
   "metadata": {},
   "outputs": [],
   "source": []
  }
 ],
 "metadata": {
  "kernelspec": {
   "display_name": "Python 3 (ipykernel)",
   "language": "python",
   "name": "python3"
  },
  "language_info": {
   "codemirror_mode": {
    "name": "ipython",
    "version": 3
   },
   "file_extension": ".py",
   "mimetype": "text/x-python",
   "name": "python",
   "nbconvert_exporter": "python",
   "pygments_lexer": "ipython3",
   "version": "3.11.4"
  }
 },
 "nbformat": 4,
 "nbformat_minor": 5
}
